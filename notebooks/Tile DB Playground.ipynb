{
 "cells": [
  {
   "cell_type": "code",
   "execution_count": 8,
   "metadata": {},
   "outputs": [
    {
     "name": "stdout",
     "output_type": "stream",
     "text": [
      "Requirement already satisfied: tiledb in /home/jupyter/.local/lib/python3.7/site-packages (0.12.2)\n",
      "Requirement already satisfied: numpy>=1.16.5 in /opt/conda/lib/python3.7/site-packages (from tiledb) (1.21.5)\n",
      "Requirement already satisfied: packaging in /opt/conda/lib/python3.7/site-packages (from tiledb) (21.3)\n",
      "Requirement already satisfied: pyparsing!=3.0.5,>=2.0.2 in /opt/conda/lib/python3.7/site-packages (from packaging->tiledb) (3.0.6)\n",
      "\n",
      "\n",
      "0.12.2\n",
      "(2, 6, 2)\n",
      "I am  pet-117272931645288568532@terra-a3b95d52.iam.gserviceaccount.com\n",
      "Workspace Bucke:  gs://fc-6f27926c-489e-469f-adc5-bb2d9cfe7eec\n"
     ]
    },
    {
     "data": {
      "text/plain": [
       "516"
      ]
     },
     "execution_count": 8,
     "metadata": {},
     "output_type": "execute_result"
    }
   ],
   "source": [
    "!pip install tiledb\n",
    "print(\"\")\n",
    "\n",
    "from datetime import datetime\n",
    "import firecloud.api as FAPI\n",
    "import json\n",
    "import numpy as np\n",
    "import os\n",
    "import pandas as pd\n",
    "import pprint\n",
    "import tiledb\n",
    "# from google.cloud import storage\n",
    "\n",
    "# # If you don't specify credentials when constructing the client, the\n",
    "# # client library will look for credentials in the environment.\n",
    "# storage_client = storage.Client()\n",
    "\n",
    "# # Make an authenticated API request\n",
    "# buckets = list(storage_client.list_buckets())\n",
    "# print(buckets)\n",
    "# print(len(buckets))\n",
    "\n",
    "\n",
    "pp = pprint.PrettyPrinter(indent=4)\n",
    "\n",
    "BILLING_PROJECT_ID = os.environ['WORKSPACE_NAMESPACE']\n",
    "WORKSPACE = os.environ['WORKSPACE_NAME']\n",
    "WORKSPACE_BUCKET = os.environ['WORKSPACE_BUCKET']\n",
    "CATALOG_WORKSPACE_NAMESPACE = \"anvil-datastorage\"\n",
    "\n",
    "# print(os.environ[\"GOOGLE_APPLICATION_CREDENTIALS\"])\n",
    "\n",
    "print(\"\")\n",
    "\n",
    "# Print TileDB-Py version\n",
    "print(tiledb.__version__)\n",
    "\n",
    "# Print TileDB core version\n",
    "print(tiledb.libtiledb.version())\n",
    "\n",
    "\n",
    "print(\"I am \", FAPI.whoami())\n",
    "print(\"Workspace Bucke: \", WORKSPACE_BUCKET)\n",
    "\n",
    "## Read in tags list\n",
    "workspacees = pd.read_csv('AnVILCatalogWorkspacesPublicMetadata-2022-02-19.csv')\n",
    "# workspaceTags = workspaceTags[[\"name\",\"sheet:consortium\", \"tagsSheet:tag:tags:dbGaP\"]]\n",
    "workspacees.set_index(\"name\", inplace=True)\n",
    "len(workspacees)\n"
   ]
  },
  {
   "cell_type": "markdown",
   "metadata": {},
   "source": []
  },
  {
   "cell_type": "code",
   "execution_count": 17,
   "metadata": {},
   "outputs": [
    {
     "name": "stdout",
     "output_type": "stream",
     "text": [
      "gcs://fc-6f27926c-489e-469f-adc5-bb2d9cfe7eec/tiledb/dscatalog\n"
     ]
    },
    {
     "ename": "TileDBError",
     "evalue": "[TileDB::StorageManager] Error: Cannot create array; Array 'gcs://fc-6f27926c-489e-469f-adc5-bb2d9cfe7eec/tiledb/dscatalog' already exists",
     "output_type": "error",
     "traceback": [
      "\u001b[0;31m---------------------------------------------------------------------------\u001b[0m",
      "\u001b[0;31mTileDBError\u001b[0m                               Traceback (most recent call last)",
      "\u001b[0;32m/tmp/ipykernel_77/3879059344.py\u001b[0m in \u001b[0;36m<module>\u001b[0;34m\u001b[0m\n\u001b[1;32m     12\u001b[0m \u001b[0;34m\u001b[0m\u001b[0m\n\u001b[1;32m     13\u001b[0m \u001b[0;31m## Well, blow me down!\u001b[0m\u001b[0;34m\u001b[0m\u001b[0;34m\u001b[0m\u001b[0;34m\u001b[0m\u001b[0m\n\u001b[0;32m---> 14\u001b[0;31m \u001b[0mtiledb\u001b[0m\u001b[0;34m.\u001b[0m\u001b[0mArray\u001b[0m\u001b[0;34m.\u001b[0m\u001b[0mcreate\u001b[0m\u001b[0;34m(\u001b[0m\u001b[0marray_url\u001b[0m\u001b[0;34m,\u001b[0m \u001b[0mschema\u001b[0m\u001b[0;34m)\u001b[0m\u001b[0;34m\u001b[0m\u001b[0;34m\u001b[0m\u001b[0m\n\u001b[0m\u001b[1;32m     15\u001b[0m \u001b[0;34m\u001b[0m\u001b[0m\n",
      "\u001b[0;32mtiledb/libtiledb.pyx\u001b[0m in \u001b[0;36mtiledb.libtiledb.Array.create\u001b[0;34m()\u001b[0m\n",
      "\u001b[0;32mtiledb/libtiledb.pyx\u001b[0m in \u001b[0;36mtiledb.libtiledb._raise_ctx_err\u001b[0;34m()\u001b[0m\n",
      "\u001b[0;32mtiledb/libtiledb.pyx\u001b[0m in \u001b[0;36mtiledb.libtiledb._raise_tiledb_error\u001b[0;34m()\u001b[0m\n",
      "\u001b[0;31mTileDBError\u001b[0m: [TileDB::StorageManager] Error: Cannot create array; Array 'gcs://fc-6f27926c-489e-469f-adc5-bb2d9cfe7eec/tiledb/dscatalog' already exists"
     ]
    }
   ],
   "source": [
    "#https://gist.github.com/ihnorton/1544bb169b4ec8cd385e9c3e756c2bd5\n",
    "\n",
    "array_url = WORKSPACE_BUCKET+\"/tiledb/dscatalog\"\n",
    "array_url = array_url.replace(\"gs\",\"gcs\")\n",
    "print(array_url)\n",
    "\n",
    "dataTypeDim  = tiledb.Dim(name=\"dataType\", tile=None, dtype=\"ascii\")\n",
    "indicationDim  = tiledb.Dim(name=\"indication\", tile=None, dtype=\"ascii\")\n",
    "dom = tiledb.Domain(indicationDim, dataTypeDim)\n",
    "attr = tiledb.Attr(name=\"workspace\", dtype=np.str_)\n",
    "schema = tiledb.ArraySchema(domain=dom, sparse=True, attrs=[attr])\n",
    "\n",
    "## Well, blow me down!\n",
    "# tiledb.Array.create(array_url, schema)\n",
    "\n",
    "\n",
    "\n"
   ]
  },
  {
   "cell_type": "code",
   "execution_count": null,
   "metadata": {},
   "outputs": [],
   "source": []
  }
 ],
 "metadata": {
  "kernelspec": {
   "display_name": "Python 3",
   "language": "python",
   "name": "python3"
  },
  "language_info": {
   "codemirror_mode": {
    "name": "ipython",
    "version": 3
   },
   "file_extension": ".py",
   "mimetype": "text/x-python",
   "name": "python",
   "nbconvert_exporter": "python",
   "pygments_lexer": "ipython3",
   "version": "3.7.12"
  },
  "toc": {
   "base_numbering": 1,
   "nav_menu": {},
   "number_sections": true,
   "sideBar": true,
   "skip_h1_title": false,
   "title_cell": "Table of Contents",
   "title_sidebar": "Contents",
   "toc_cell": false,
   "toc_position": {},
   "toc_section_display": true,
   "toc_window_display": false
  }
 },
 "nbformat": 4,
 "nbformat_minor": 2
}
